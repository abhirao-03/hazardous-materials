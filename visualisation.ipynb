{
 "cells": [
  {
   "cell_type": "markdown",
   "id": "7a0a270b-9640-4970-84de-5e2178c90724",
   "metadata": {},
   "source": [
    "# Algorithm Output Visualisation\n",
    "\n"
   ]
  },
  {
   "cell_type": "code",
   "execution_count": null,
   "id": "862731cd-0a6a-461b-9ebf-88d7ed61fe06",
   "metadata": {},
   "outputs": [],
   "source": [
    "%load_ext autoreload\n",
    "%autoreload 2"
   ]
  },
  {
   "cell_type": "code",
   "execution_count": null,
   "id": "e43b4336-7b30-4b49-acb7-956243391df3",
   "metadata": {},
   "outputs": [],
   "source": [
    "import numpy as np\n",
    "import matplotlib.pyplot as plt\n",
    "from matplotlib.animation import FuncAnimation\n",
    "import model_params as model  # Import from a local Python file, model_params.py\n",
    "from workspace import *  # Import everything from workspace.py"
   ]
  },
  {
   "cell_type": "markdown",
   "id": "b80b964d-b65f-4670-8bb4-36511ab25836",
   "metadata": {},
   "source": [
    "A single canister without scrubbers:"
   ]
  },
  {
   "cell_type": "markdown",
   "id": "4d343734-f58f-48ae-8488-775387d10642",
   "metadata": {},
   "source": []
  },
  {
   "cell_type": "markdown",
   "id": "9f622b87-a73f-4e92-b129-3b6b1d3a8196",
   "metadata": {},
   "source": [
    "A single canister with scrubbers applied:"
   ]
  },
  {
   "cell_type": "markdown",
   "id": "87c8d93a-cfba-4961-a308-eb07922a5d57",
   "metadata": {},
   "source": []
  },
  {
   "cell_type": "markdown",
   "id": "11aee1d7-3d11-4b1c-98ea-8224eb5be736",
   "metadata": {},
   "source": [
    "Multiple canisters withoout scrubbers:"
   ]
  },
  {
   "cell_type": "markdown",
   "id": "b9628d30-1cc5-4fcf-82c2-ff5a93d69151",
   "metadata": {},
   "source": []
  },
  {
   "cell_type": "markdown",
   "id": "b370d2d6-b3bb-479b-b987-f1b51e5d266d",
   "metadata": {},
   "source": [
    "Multiple canisters with scrubbers applied:"
   ]
  },
  {
   "cell_type": "markdown",
   "id": "d57e8dac-f04a-4e66-adf0-3b9fa750fd99",
   "metadata": {},
   "source": []
  }
 ],
 "metadata": {
  "kernelspec": {
   "display_name": "Python 3 (ipykernel)",
   "language": "python",
   "name": "python3"
  },
  "language_info": {
   "codemirror_mode": {
    "name": "ipython",
    "version": 3
   },
   "file_extension": ".py",
   "mimetype": "text/x-python",
   "name": "python",
   "nbconvert_exporter": "python",
   "pygments_lexer": "ipython3",
   "version": "3.11.9"
  }
 },
 "nbformat": 4,
 "nbformat_minor": 5
}
