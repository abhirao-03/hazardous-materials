{
 "cells": [
  {
   "cell_type": "markdown",
   "id": "7a0a270b-9640-4970-84de-5e2178c90724",
   "metadata": {},
   "source": [
    "# Algorithm Output Visualisation\n",
    "\n"
   ]
  },
  {
   "cell_type": "code",
   "execution_count": 1,
   "id": "1206157f-df86-4997-947c-727a9c37b520",
   "metadata": {},
   "outputs": [
    {
     "ename": "ModuleNotFoundError",
     "evalue": "No module named 'model_params'",
     "output_type": "error",
     "traceback": [
      "\u001b[0;31m---------------------------------------------------------------------------\u001b[0m",
      "\u001b[0;31mModuleNotFoundError\u001b[0m                       Traceback (most recent call last)",
      "Cell \u001b[0;32mIn[1], line 2\u001b[0m\n\u001b[1;32m      1\u001b[0m \u001b[38;5;28;01mimport\u001b[39;00m \u001b[38;5;21;01mnumpy\u001b[39;00m \u001b[38;5;28;01mas\u001b[39;00m \u001b[38;5;21;01mnp\u001b[39;00m\n\u001b[0;32m----> 2\u001b[0m \u001b[38;5;28;01mimport\u001b[39;00m \u001b[38;5;21;01mmodel_params\u001b[39;00m \u001b[38;5;28;01mas\u001b[39;00m \u001b[38;5;21;01mmodel\u001b[39;00m\n\u001b[1;32m      3\u001b[0m \u001b[38;5;28;01mimport\u001b[39;00m \u001b[38;5;21;01mmatplotlib\u001b[39;00m\u001b[38;5;21;01m.\u001b[39;00m\u001b[38;5;21;01mpyplot\u001b[39;00m \u001b[38;5;28;01mas\u001b[39;00m \u001b[38;5;21;01mplt\u001b[39;00m\n\u001b[1;32m      4\u001b[0m \u001b[38;5;28;01mfrom\u001b[39;00m \u001b[38;5;21;01mmatplotlib\u001b[39;00m\u001b[38;5;21;01m.\u001b[39;00m\u001b[38;5;21;01manimation\u001b[39;00m \u001b[38;5;28;01mimport\u001b[39;00m FuncAnimation\n",
      "\u001b[0;31mModuleNotFoundError\u001b[0m: No module named 'model_params'"
     ]
    }
   ],
   "source": [
    "import numpy as np\n",
    "import model_params as model\n",
    "import matplotlib.pyplot as plt\n",
    "from matplotlib.animation import FuncAnimation\n",
    "from workspace import *\n",
    "parameters = model.parameters()"
   ]
  },
  {
   "cell_type": "markdown",
   "id": "8a2d5013-5e4a-4efc-8442-c30a3c23630d",
   "metadata": {},
   "source": [
    "Running the simulation with one canister placed in the centre of the room and no scrubbers applied:"
   ]
  },
  {
   "cell_type": "code",
   "execution_count": null,
   "id": "13b3ac3c-3986-41c8-b840-5b850e6ee2b9",
   "metadata": {},
   "outputs": [],
   "source": [
    "U_tracked = run_simulation()\n",
    "\n",
    "min_concentration = 0.0\n",
    "max_concentration = 0.02\n",
    "\n",
    "fig, ax = plt.subplots()\n",
    "heatmap = ax.imshow(U_tracked[0].reshape(parameters.Nx_points, parameters.Ny_points), cmap='magma', vmin=min_concentration, vmax=max_concentration, interpolation='nearest')\n",
    "heatmap = ax.imshow(U_tracked[0].reshape(parameters.Nx_points, parameters.Ny_points), cmap='magma', vmin=min_concentration, vmax=max_concentration, interpolation='nearest')\n",
    "ax.set_title(\"Heatmap over Time\")\n",
    "\n",
    "#ax.plot(gas_canister.x_loc*100 + 96, gas_canister.y_loc*100, 'o', color='cyan', markersize=8, alpha=0.2)\n",
    "\n",
    "for scrubber in scrubbers:\n",
    "    fixed_point, = ax.plot(scrubber.x_loc*100, scrubber.y_loc*100, 'o', color='cyan', markersize=8, alpha=0.2)\n",
    "\n",
    "def update(frame):\n",
    "    heatmap.set_array(U_tracked[frame].reshape(parameters.Nx_points, parameters.Ny_points))\n",
    "    ax.set_title(f\"Time Step: {frame}\")\n",
    "    return heatmap,\n",
    "\n",
    "ani = FuncAnimation(fig, update, frames=parameters.Nt_points, interval=100, blit=False, repeat=True)\n",
    "\n",
    "plt.colorbar(heatmap, ax=ax)\n",
    "plt.show()"
   ]
  }
 ],
 "metadata": {
  "kernelspec": {
   "display_name": "Python 3 (ipykernel)",
   "language": "python",
   "name": "python3"
  },
  "language_info": {
   "codemirror_mode": {
    "name": "ipython",
    "version": 3
   },
   "file_extension": ".py",
   "mimetype": "text/x-python",
   "name": "python",
   "nbconvert_exporter": "python",
   "pygments_lexer": "ipython3",
   "version": "3.11.9"
  }
 },
 "nbformat": 4,
 "nbformat_minor": 5
}
