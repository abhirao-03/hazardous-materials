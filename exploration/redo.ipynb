{
 "cells": [
  {
   "cell_type": "code",
   "execution_count": 2,
   "metadata": {},
   "outputs": [],
   "source": [
    "import numpy as np\n",
    "import matplotlib.pyplot as plt\n",
    "import matplotlib.animation as animation\n",
    "from matplotlib.colors import Normalize"
   ]
  },
  {
   "cell_type": "code",
   "execution_count": 3,
   "metadata": {},
   "outputs": [],
   "source": [
    "class gas_canistor:\n",
    "    def __init__(self, loc = 0.5, radius = 0.05, concentration = 1.0):\n",
    "        self.radius = radius\n",
    "        self.loc = loc\n",
    "        self.lower_bound = self.loc - self.radius\n",
    "        self.upper_bound = self.loc + self.radius\n",
    "        self.concentration = concentration\n",
    "\n",
    "def f(canistor: gas_canistor, x: np.array):\n",
    "    return np.where((x >= canistor.lower_bound) & (x <= canistor.upper_bound), 1, 0)\n",
    "\n",
    "class scrubber():\n",
    "    def __init__(self, location, radius, efficiency):\n",
    "        self.loc = location\n",
    "        self.radius = radius\n",
    "        self.efficiency = efficiency\n",
    "        self.lower_bound = self.loc - self.radius\n",
    "        self.upper_bound = self.loc + self.radius\n",
    "\n",
    "def sink(scrub:scrubber, x, u):\n",
    "    \"\"\"\n",
    "    loc: location of sink\n",
    "    x: position\n",
    "    cot: concentration\n",
    "    \"\"\"\n",
    "    \n",
    "    scrub_loc = np.where((x >= scrub.lower_bound) & (x <= scrub.upper_bound))\n",
    "    u[scrub_loc] = (1 - scrub.efficiency) * u[scrub_loc]\n",
    "    \n",
    "    return u"
   ]
  },
  {
   "cell_type": "code",
   "execution_count": 6,
   "metadata": {},
   "outputs": [],
   "source": [
    "\n",
    "scrub = scrubber(0.2, 0.05, 0.2)\n",
    "\n",
    "\n",
    "# Parameters\n",
    "L = 1.0                 # Length of interval\n",
    "T = 10.0                 # Total time\n",
    "Nx = 100                # Number of spatial points\n",
    "Nt = 10000                # Number of time steps\n",
    "dx = L / (Nx - 1)       # Spatial step size\n",
    "dt = T / Nt             # Time step size\n",
    "C = dt / dx**2\n",
    "\n",
    "x = np.linspace(0, L, Nx)\n",
    "\n",
    "canistor = gas_canistor()\n",
    "u_initial = f(canistor, x)\n",
    "\n",
    "u = np.copy(u_initial)\n",
    "\n",
    "U_tracked = np.zeros((Nt, Nx))\n",
    "U_tracked[0, :] = u\n",
    "\n",
    "A = np.zeros((Nx, Nx))\n",
    "\n",
    "for i in range(1, Nx - 1):\n",
    "    A[i, i - 1] = -C\n",
    "    A[i, i] = 1 + 2 * C\n",
    "    A[i, i + 1] = -C\n",
    "\n",
    "A[0, 0] = 1 + 2 * C\n",
    "A[0, 1] = -2 * C   \n",
    "A[Nx - 1, Nx - 2] = -2 * C \n",
    "A[Nx - 1, Nx - 1] = 1 + 2 * C\n",
    "\n",
    "\n",
    "for n in range(Nt - 1):\n",
    "    u = np.linalg.solve(A, u)\n",
    "    u = sink(scrub, x, u)\n",
    "    U_tracked[n+1, :] = u\n",
    "\n",
    "\n",
    "U_tracked_x = np.copy(U_tracked)\n",
    "U_tracked_y = np.copy(U_tracked)\n"
   ]
  },
  {
   "cell_type": "code",
   "execution_count": 7,
   "metadata": {},
   "outputs": [
    {
     "data": {
      "text/plain": [
       "(10000, 100)"
      ]
     },
     "execution_count": 7,
     "metadata": {},
     "output_type": "execute_result"
    }
   ],
   "source": [
    "U_tracked_x.shape"
   ]
  },
  {
   "cell_type": "code",
   "execution_count": null,
   "metadata": {},
   "outputs": [],
   "source": []
  }
 ],
 "metadata": {
  "kernelspec": {
   "display_name": "base",
   "language": "python",
   "name": "python3"
  },
  "language_info": {
   "codemirror_mode": {
    "name": "ipython",
    "version": 3
   },
   "file_extension": ".py",
   "mimetype": "text/x-python",
   "name": "python",
   "nbconvert_exporter": "python",
   "pygments_lexer": "ipython3",
   "version": "3.12.2"
  }
 },
 "nbformat": 4,
 "nbformat_minor": 2
}
