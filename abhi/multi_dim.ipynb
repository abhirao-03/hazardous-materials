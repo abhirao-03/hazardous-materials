{
 "cells": [
  {
   "cell_type": "code",
   "execution_count": 1,
   "metadata": {},
   "outputs": [],
   "source": [
    "import numpy as np\n",
    "import matplotlib.pyplot as plt"
   ]
  },
  {
   "cell_type": "code",
   "execution_count": 12,
   "metadata": {},
   "outputs": [],
   "source": [
    "class gas_canistor:\n",
    "    def __init__(self, loc = (0.5, 0.5, 0.2), radius = 0.05, height = 0.1, concentration = 1.0):\n",
    "        self.radius = radius\n",
    "\n",
    "        self.x = loc[0]\n",
    "        self.y = loc[1]\n",
    "        self.z = loc[2]\n",
    "        self.height = height\n",
    "\n",
    "        self.lb_x = self.x - self.radius\n",
    "        self.ub_x = self.x + self.radius\n",
    "        self.lb_y = self.y - self.radius\n",
    "        self.ub_y = self.y + self.radius\n",
    "        self.lb_z = self.z - self.height\n",
    "        self.ub_z = self.z + self.height\n",
    "\n",
    "        self.concentration = concentration\n",
    "\n",
    "def f(canistor: gas_canistor, x: np.array):\n",
    "    x_zone = np.where((x >= canistor.lb_x) & (x <= canistor.ub_x), canistor.concentration, 0)\n",
    "    y_zone = np.where((x >= canistor.lb_y) & (x <= canistor.ub_y), canistor.concentration, 0)\n",
    "    z_zone = np.where((x >= canistor.lb_z) & (x <= canistor.ub_z), canistor.concentration, 0)\n",
    "\n",
    "    return np.array([x_zone, y_zone])"
   ]
  },
  {
   "cell_type": "code",
   "execution_count": 13,
   "metadata": {},
   "outputs": [],
   "source": [
    "can_1 = gas_canistor()\n",
    "x = np.linspace(0.0, 1.0, 100)\n",
    "concentrations = f(can_1, x)"
   ]
  },
  {
   "cell_type": "code",
   "execution_count": null,
   "metadata": {},
   "outputs": [],
   "source": [
    "class scrubber():\n",
    "    def __init__(self, location, radius, efficiency):\n",
    "        self.loc = location\n",
    "        self.radius = radius\n",
    "        self.efficiency = efficiency\n",
    "        self.lower_bound = self.loc - self.radius\n",
    "        self.upper_bound = self.loc + self.radius\n",
    "\n",
    "def sink(scrub:scrubber, x, u):\n",
    "    \"\"\"\n",
    "    loc: location of sink\n",
    "    x: position\n",
    "    cot: concentration\n",
    "    \"\"\"\n",
    "    \n",
    "    scrub_loc = np.where((x >= scrub.lower_bound) & (x <= scrub.upper_bound))\n",
    "    u[scrub_loc] = (1 - scrub.efficiency) * u[scrub_loc]\n",
    "    \n",
    "    return u"
   ]
  }
 ],
 "metadata": {
  "kernelspec": {
   "display_name": "base",
   "language": "python",
   "name": "python3"
  },
  "language_info": {
   "codemirror_mode": {
    "name": "ipython",
    "version": 3
   },
   "file_extension": ".py",
   "mimetype": "text/x-python",
   "name": "python",
   "nbconvert_exporter": "python",
   "pygments_lexer": "ipython3",
   "version": "3.12.2"
  }
 },
 "nbformat": 4,
 "nbformat_minor": 2
}
